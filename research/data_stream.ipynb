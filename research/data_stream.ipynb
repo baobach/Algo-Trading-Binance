{
 "cells": [
  {
   "cell_type": "code",
   "execution_count": 2,
   "metadata": {},
   "outputs": [],
   "source": [
    "import pandas as pd\n",
    "import datetime\n",
    "import sys\n",
    "sys.path.append('/Users/baobach/Algo-Trading-Binance')\n",
    "import asyncio\n",
    "\n",
    "# Import custom libs\n",
    "from binance.client import Client\n",
    "from binance import AsyncClient, BinanceSocketManager\n",
    "from config import settings"
   ]
  },
  {
   "cell_type": "code",
   "execution_count": null,
   "metadata": {},
   "outputs": [],
   "source": [
    "client = Client(settings.api_key, settings.secret_key, testnet=True)"
   ]
  },
  {
   "cell_type": "code",
   "execution_count": null,
   "metadata": {},
   "outputs": [],
   "source": [
    "# get timestamp of earliest date data is available\n",
    "timestamp = client._get_earliest_valid_timestamp('BTCUSDT', '1d')\n",
    "# request historical candle (or klines) data\n",
    "bars = client.get_historical_klines('BTCUSDT', '1d', timestamp, limit=1000)"
   ]
  },
  {
   "cell_type": "code",
   "execution_count": null,
   "metadata": {},
   "outputs": [],
   "source": [
    "# delete unwanted data - just keep date, open, high, low, close\n",
    "for line in bars:\n",
    "    del line[5:]\n",
    "btc_df = pd.DataFrame(bars, columns=['date', 'open', 'high', 'low', 'close'])\n",
    "btc_df.set_index('date', inplace=True)\n",
    "print(btc_df.head())"
   ]
  }
 ],
 "metadata": {
  "kernelspec": {
   "display_name": "pythonlab",
   "language": "python",
   "name": "python3"
  },
  "language_info": {
   "codemirror_mode": {
    "name": "ipython",
    "version": 3
   },
   "file_extension": ".py",
   "mimetype": "text/x-python",
   "name": "python",
   "nbconvert_exporter": "python",
   "pygments_lexer": "ipython3",
   "version": "3.10.12"
  }
 },
 "nbformat": 4,
 "nbformat_minor": 2
}
