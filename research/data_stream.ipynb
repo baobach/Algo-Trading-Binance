{
 "cells": [
  {
   "cell_type": "code",
   "execution_count": 1,
   "metadata": {},
   "outputs": [],
   "source": [
    "import pandas as pd\n",
    "import datetime\n",
    "import sys\n",
    "sys.path.append('/Users/baobach/Algo-Trading-Binance')\n",
    "import asyncio\n",
    "import pandas_ta as ta\n",
    "\n",
    "# Import custom libs\n",
    "from binance.client import Client\n",
    "from binance import AsyncClient, BinanceSocketManager\n",
    "from src.config import settings\n",
    "from sqlalchemy import create_engine"
   ]
  },
  {
   "cell_type": "code",
   "execution_count": 3,
   "metadata": {},
   "outputs": [],
   "source": [
    "import websockets\n",
    "import json"
   ]
  },
  {
   "cell_type": "code",
   "execution_count": 4,
   "metadata": {},
   "outputs": [],
   "source": [
    "symbol = 'BTCUSDT'\n",
    "stream = websockets.connect(f'wss://stream.binance.com:9443/ws/{symbol.lower()}@trade')"
   ]
  },
  {
   "cell_type": "code",
   "execution_count": null,
   "metadata": {},
   "outputs": [],
   "source": [
    "async with stream as receiver:\n",
    "    data = await receiver.recv()\n",
    "    data = json.loads(data)\n",
    "    print(data)"
   ]
  },
  {
   "cell_type": "code",
   "execution_count": 6,
   "metadata": {},
   "outputs": [],
   "source": [
    "from pathlib import Path\n",
    "db_path = Path('/Users/baobach/Algo-Trading-Binance/data/raw/BTCUSDT_stream.db')\n",
    "if db_path.parent.exists():\n",
    "    engine = create_engine(f'sqlite:///{db_path}')\n",
    "    pd.read_sql(symbol, engine)\n",
    "else:\n",
    "    print(\"Directory does not exist.\")\n"
   ]
  },
  {
   "cell_type": "code",
   "execution_count": 8,
   "metadata": {},
   "outputs": [
    {
     "data": {
      "text/html": [
       "<div>\n",
       "<style scoped>\n",
       "    .dataframe tbody tr th:only-of-type {\n",
       "        vertical-align: middle;\n",
       "    }\n",
       "\n",
       "    .dataframe tbody tr th {\n",
       "        vertical-align: top;\n",
       "    }\n",
       "\n",
       "    .dataframe thead th {\n",
       "        text-align: right;\n",
       "    }\n",
       "</style>\n",
       "<table border=\"1\" class=\"dataframe\">\n",
       "  <thead>\n",
       "    <tr style=\"text-align: right;\">\n",
       "      <th></th>\n",
       "      <th>Price</th>\n",
       "      <th>Volume</th>\n",
       "    </tr>\n",
       "    <tr>\n",
       "      <th>Time</th>\n",
       "      <th></th>\n",
       "      <th></th>\n",
       "    </tr>\n",
       "  </thead>\n",
       "  <tbody>\n",
       "    <tr>\n",
       "      <th>2024-02-29 02:54:02.246</th>\n",
       "      <td>61648.44</td>\n",
       "      <td>0.03158000</td>\n",
       "    </tr>\n",
       "    <tr>\n",
       "      <th>2024-02-29 02:54:08.302</th>\n",
       "      <td>61653.01</td>\n",
       "      <td>0.03669000</td>\n",
       "    </tr>\n",
       "    <tr>\n",
       "      <th>2024-02-29 02:54:10.994</th>\n",
       "      <td>61666.13</td>\n",
       "      <td>0.05755000</td>\n",
       "    </tr>\n",
       "    <tr>\n",
       "      <th>2024-02-29 02:54:13.242</th>\n",
       "      <td>61670.98</td>\n",
       "      <td>0.08302000</td>\n",
       "    </tr>\n",
       "    <tr>\n",
       "      <th>2024-02-29 02:54:16.243</th>\n",
       "      <td>61670.98</td>\n",
       "      <td>0.10382000</td>\n",
       "    </tr>\n",
       "    <tr>\n",
       "      <th>...</th>\n",
       "      <td>...</td>\n",
       "      <td>...</td>\n",
       "    </tr>\n",
       "    <tr>\n",
       "      <th>2024-02-29 03:01:32.841</th>\n",
       "      <td>61511.10</td>\n",
       "      <td>0.08760000</td>\n",
       "    </tr>\n",
       "    <tr>\n",
       "      <th>2024-02-29 03:01:35.934</th>\n",
       "      <td>61514.25</td>\n",
       "      <td>0.10810000</td>\n",
       "    </tr>\n",
       "    <tr>\n",
       "      <th>2024-02-29 03:01:38.273</th>\n",
       "      <td>61514.88</td>\n",
       "      <td>0.11550000</td>\n",
       "    </tr>\n",
       "    <tr>\n",
       "      <th>2024-02-29 03:01:40.905</th>\n",
       "      <td>61515.24</td>\n",
       "      <td>0.12062000</td>\n",
       "    </tr>\n",
       "    <tr>\n",
       "      <th>2024-02-29 03:01:44.408</th>\n",
       "      <td>61518.24</td>\n",
       "      <td>0.14070000</td>\n",
       "    </tr>\n",
       "  </tbody>\n",
       "</table>\n",
       "<p>145 rows × 2 columns</p>\n",
       "</div>"
      ],
      "text/plain": [
       "                            Price      Volume\n",
       "Time                                         \n",
       "2024-02-29 02:54:02.246  61648.44  0.03158000\n",
       "2024-02-29 02:54:08.302  61653.01  0.03669000\n",
       "2024-02-29 02:54:10.994  61666.13  0.05755000\n",
       "2024-02-29 02:54:13.242  61670.98  0.08302000\n",
       "2024-02-29 02:54:16.243  61670.98  0.10382000\n",
       "...                           ...         ...\n",
       "2024-02-29 03:01:32.841  61511.10  0.08760000\n",
       "2024-02-29 03:01:35.934  61514.25  0.10810000\n",
       "2024-02-29 03:01:38.273  61514.88  0.11550000\n",
       "2024-02-29 03:01:40.905  61515.24  0.12062000\n",
       "2024-02-29 03:01:44.408  61518.24  0.14070000\n",
       "\n",
       "[145 rows x 2 columns]"
      ]
     },
     "execution_count": 8,
     "metadata": {},
     "output_type": "execute_result"
    }
   ],
   "source": [
    "engine = create_engine(f'sqlite:///{db_path}')\n",
    "pd.read_sql(symbol, engine, index_col='Time')"
   ]
  },
  {
   "cell_type": "code",
   "execution_count": null,
   "metadata": {},
   "outputs": [],
   "source": []
  }
 ],
 "metadata": {
  "kernelspec": {
   "display_name": "pythonlab",
   "language": "python",
   "name": "python3"
  },
  "language_info": {
   "codemirror_mode": {
    "name": "ipython",
    "version": 3
   },
   "file_extension": ".py",
   "mimetype": "text/x-python",
   "name": "python",
   "nbconvert_exporter": "python",
   "pygments_lexer": "ipython3",
   "version": "3.10.13"
  }
 },
 "nbformat": 4,
 "nbformat_minor": 2
}
