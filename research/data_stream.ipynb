{
 "cells": [
  {
   "cell_type": "code",
   "execution_count": 10,
   "metadata": {},
   "outputs": [],
   "source": [
    "import pandas as pd\n",
    "import datetime\n",
    "import sys\n",
    "sys.path.append('/Users/baobach/Algo-Trading-Binance')\n",
    "import asyncio\n",
    "import pandas_ta as ta\n",
    "\n",
    "# Import custom libs\n",
    "from binance.client import Client\n",
    "from binance import AsyncClient, BinanceSocketManager\n",
    "from src.config import settings"
   ]
  },
  {
   "cell_type": "code",
   "execution_count": 2,
   "metadata": {},
   "outputs": [],
   "source": [
    "import websockets\n",
    "import json"
   ]
  },
  {
   "cell_type": "code",
   "execution_count": 7,
   "metadata": {},
   "outputs": [],
   "source": [
    "symbol = 'BTCUSDT'\n"
   ]
  },
  {
   "cell_type": "code",
   "execution_count": 8,
   "metadata": {},
   "outputs": [],
   "source": [
    "stream = websockets.connect(f'wss://stream.binance.com:9443/ws/{symbol.lower()}@trade')"
   ]
  },
  {
   "cell_type": "code",
   "execution_count": 9,
   "metadata": {},
   "outputs": [
    {
     "name": "stdout",
     "output_type": "stream",
     "text": [
      "{'e': 'trade', 'E': 1708759812337, 's': 'BTCUSDT', 't': 3432559022, 'p': '51007.00000000', 'q': '0.00128000', 'b': 25077025869, 'a': 25077022002, 'T': 1708759812337, 'm': False, 'M': True}\n"
     ]
    },
    {
     "ename": "CancelledError",
     "evalue": "",
     "output_type": "error",
     "traceback": [
      "\u001b[0;31m---------------------------------------------------------------------------\u001b[0m",
      "\u001b[0;31mCancelledError\u001b[0m                            Traceback (most recent call last)",
      "Cell \u001b[0;32mIn[9], line 1\u001b[0m\n\u001b[0;32m----> 1\u001b[0m \u001b[38;5;28;01masync\u001b[39;00m \u001b[38;5;28;01mwith\u001b[39;00m stream \u001b[38;5;28;01mas\u001b[39;00m receiver:\n\u001b[1;32m      2\u001b[0m     data \u001b[38;5;241m=\u001b[39m \u001b[38;5;28;01mawait\u001b[39;00m receiver\u001b[38;5;241m.\u001b[39mrecv()\n\u001b[1;32m      3\u001b[0m     data \u001b[38;5;241m=\u001b[39m json\u001b[38;5;241m.\u001b[39mloads(data)\n",
      "File \u001b[0;32m~/anaconda3/envs/algorun/lib/python3.10/site-packages/websockets/legacy/client.py:637\u001b[0m, in \u001b[0;36mConnect.__aexit__\u001b[0;34m(self, exc_type, exc_value, traceback)\u001b[0m\n\u001b[1;32m    631\u001b[0m \u001b[38;5;28;01masync\u001b[39;00m \u001b[38;5;28;01mdef\u001b[39;00m \u001b[38;5;21m__aexit__\u001b[39m(\n\u001b[1;32m    632\u001b[0m     \u001b[38;5;28mself\u001b[39m,\n\u001b[1;32m    633\u001b[0m     exc_type: Optional[Type[\u001b[38;5;167;01mBaseException\u001b[39;00m]],\n\u001b[1;32m    634\u001b[0m     exc_value: Optional[\u001b[38;5;167;01mBaseException\u001b[39;00m],\n\u001b[1;32m    635\u001b[0m     traceback: Optional[TracebackType],\n\u001b[1;32m    636\u001b[0m ) \u001b[38;5;241m-\u001b[39m\u001b[38;5;241m>\u001b[39m \u001b[38;5;28;01mNone\u001b[39;00m:\n\u001b[0;32m--> 637\u001b[0m     \u001b[38;5;28;01mawait\u001b[39;00m \u001b[38;5;28mself\u001b[39m\u001b[38;5;241m.\u001b[39mprotocol\u001b[38;5;241m.\u001b[39mclose()\n",
      "File \u001b[0;32m~/anaconda3/envs/algorun/lib/python3.10/site-packages/websockets/legacy/protocol.py:793\u001b[0m, in \u001b[0;36mWebSocketCommonProtocol.close\u001b[0;34m(self, code, reason)\u001b[0m\n\u001b[1;32m    790\u001b[0m     \u001b[38;5;28;01mpass\u001b[39;00m\n\u001b[1;32m    792\u001b[0m \u001b[38;5;66;03m# Wait for the close connection task to close the TCP connection.\u001b[39;00m\n\u001b[0;32m--> 793\u001b[0m \u001b[38;5;28;01mawait\u001b[39;00m asyncio\u001b[38;5;241m.\u001b[39mshield(\u001b[38;5;28mself\u001b[39m\u001b[38;5;241m.\u001b[39mclose_connection_task)\n",
      "\u001b[0;31mCancelledError\u001b[0m: "
     ]
    }
   ],
   "source": [
    "async with stream as receiver:\n",
    "    data = await receiver.recv()\n",
    "    data = json.loads(data)\n",
    "    print(data)"
   ]
  },
  {
   "cell_type": "code",
   "execution_count": null,
   "metadata": {},
   "outputs": [],
   "source": []
  }
 ],
 "metadata": {
  "kernelspec": {
   "display_name": "pythonlab",
   "language": "python",
   "name": "python3"
  },
  "language_info": {
   "codemirror_mode": {
    "name": "ipython",
    "version": 3
   },
   "file_extension": ".py",
   "mimetype": "text/x-python",
   "name": "python",
   "nbconvert_exporter": "python",
   "pygments_lexer": "ipython3",
   "version": "3.10.13"
  }
 },
 "nbformat": 4,
 "nbformat_minor": 2
}
