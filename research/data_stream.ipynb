{
 "cells": [
  {
   "cell_type": "code",
   "execution_count": 2,
   "metadata": {},
   "outputs": [],
   "source": [
    "import pandas as pd\n",
    "import datetime\n",
    "import sys\n",
    "sys.path.append('/Users/baobach/Algo-Trading-Binance')\n",
    "import asyncio\n",
    "\n",
    "# Import custom libs\n",
    "from binance.client import Client\n",
    "from binance import AsyncClient, BinanceSocketManager\n",
    "from config import settings"
   ]
  },
  {
   "cell_type": "code",
   "execution_count": null,
   "metadata": {},
   "outputs": [],
   "source": [
    "client = Client(settings.api_key, settings.secret_key, testnet=True)"
   ]
  },
  {
   "cell_type": "code",
   "execution_count": null,
   "metadata": {},
   "outputs": [],
   "source": [
    "# get timestamp of earliest date data is available\n",
    "timestamp = client._get_earliest_valid_timestamp('BTCUSDT', '1d')\n",
    "# request historical candle (or klines) data\n",
    "bars = client.get_historical_klines('BTCUSDT', '1d', timestamp, limit=1000)"
   ]
  },
  {
   "cell_type": "code",
   "execution_count": null,
   "metadata": {},
   "outputs": [],
   "source": [
    "# delete unwanted data - just keep date, open, high, low, close\n",
    "for line in bars:\n",
    "    del line[5:]\n",
    "btc_df = pd.DataFrame(bars, columns=['date', 'open', 'high', 'low', 'close'])\n",
    "btc_df.set_index('date', inplace=True)\n",
    "print(btc_df.head())"
   ]
  },
  {
   "cell_type": "code",
   "execution_count": 4,
   "metadata": {},
   "outputs": [],
   "source": [
    "api_key = settings.api_key\n",
    "api_secret = settings.secret_key\n",
    "symbol = 'btcusdt'\n",
    "data_folder = 'data'  # Using a relative path\n",
    "save_interval_seconds = 60"
   ]
  },
  {
   "cell_type": "code",
   "execution_count": 41,
   "metadata": {},
   "outputs": [],
   "source": [
    "import json\n",
    "def json_import(json_file_path):\n",
    "    # Load JSON data from file\n",
    "    with open(json_file_path, 'r') as json_file:\n",
    "        data_list = json.load(json_file)\n",
    "\n",
    "    # Convert the list of dictionaries to a DataFrame\n",
    "    df = pd.DataFrame(data_list)\n",
    "\n",
    "    # Convert 'E' column to datetime format and rename it to 'timestamp'\n",
    "    df['E'] = pd.to_datetime(df['E'], unit='ms')\n",
    "    df.rename(columns={'E': 'timestamp'}, inplace=True)\n",
    "\n",
    "    # Set 'timestamp' column as the index\n",
    "    df.set_index('timestamp', inplace=True)\n",
    "\n",
    "    # Rename other columns for better readability\n",
    "    df.columns = ['event', 'symbol', 'close', 'open', 'high', 'low', 'volume', 'quoteVolume']\n",
    "\n",
    "    # Reorder columns as per your desired output\n",
    "    df = df[['open', 'high', 'low', 'close', 'volume']]\n",
    "\n",
    "    return df"
   ]
  },
  {
   "cell_type": "code",
   "execution_count": 49,
   "metadata": {},
   "outputs": [
    {
     "data": {
      "text/html": [
       "<div>\n",
       "<style scoped>\n",
       "    .dataframe tbody tr th:only-of-type {\n",
       "        vertical-align: middle;\n",
       "    }\n",
       "\n",
       "    .dataframe tbody tr th {\n",
       "        vertical-align: top;\n",
       "    }\n",
       "\n",
       "    .dataframe thead th {\n",
       "        text-align: right;\n",
       "    }\n",
       "</style>\n",
       "<table border=\"1\" class=\"dataframe\">\n",
       "  <thead>\n",
       "    <tr style=\"text-align: right;\">\n",
       "      <th></th>\n",
       "      <th>open</th>\n",
       "      <th>high</th>\n",
       "      <th>low</th>\n",
       "      <th>close</th>\n",
       "      <th>volume</th>\n",
       "    </tr>\n",
       "    <tr>\n",
       "      <th>timestamp</th>\n",
       "      <th></th>\n",
       "      <th></th>\n",
       "      <th></th>\n",
       "      <th></th>\n",
       "      <th></th>\n",
       "    </tr>\n",
       "  </thead>\n",
       "  <tbody>\n",
       "    <tr>\n",
       "      <th>2024-02-04 09:35:24.547</th>\n",
       "      <td>43084.99000000</td>\n",
       "      <td>43270.00000000</td>\n",
       "      <td>42720.07000000</td>\n",
       "      <td>42960.00000000</td>\n",
       "      <td>12584.33753000</td>\n",
       "    </tr>\n",
       "  </tbody>\n",
       "</table>\n",
       "</div>"
      ],
      "text/plain": [
       "                                   open            high             low  \\\n",
       "timestamp                                                                 \n",
       "2024-02-04 09:35:24.547  43084.99000000  43270.00000000  42720.07000000   \n",
       "\n",
       "                                  close          volume  \n",
       "timestamp                                                \n",
       "2024-02-04 09:35:24.547  42960.00000000  12584.33753000  "
      ]
     },
     "execution_count": 49,
     "metadata": {},
     "output_type": "execute_result"
    }
   ],
   "source": [
    "json_import('../data/btc_stream.json')"
   ]
  },
  {
   "cell_type": "code",
   "execution_count": null,
   "metadata": {},
   "outputs": [],
   "source": []
  }
 ],
 "metadata": {
  "kernelspec": {
   "display_name": "pythonlab",
   "language": "python",
   "name": "python3"
  },
  "language_info": {
   "codemirror_mode": {
    "name": "ipython",
    "version": 3
   },
   "file_extension": ".py",
   "mimetype": "text/x-python",
   "name": "python",
   "nbconvert_exporter": "python",
   "pygments_lexer": "ipython3",
   "version": "3.10.12"
  }
 },
 "nbformat": 4,
 "nbformat_minor": 2
}
