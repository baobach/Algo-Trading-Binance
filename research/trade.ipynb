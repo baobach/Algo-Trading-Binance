{
 "cells": [
  {
   "cell_type": "code",
   "execution_count": 2,
   "metadata": {},
   "outputs": [],
   "source": [
    "import os\n",
    "# Adding the script to this notebook\n",
    "import sys\n",
    "sys.path.append('/Users/baobach/Algo-Trading-Binance')\n",
    "from binance.client import Client\n",
    "from binance.enums import *\n",
    "from binance.exceptions import BinanceAPIException, BinanceOrderException\n",
    "from config import settings\n",
    "\n",
    "# init\n",
    "api_key = settings.api_key\n",
    "api_secret = settings.secret_key\n",
    "\n",
    "client = Client(api_key, api_secret,testnet=True)"
   ]
  },
  {
   "cell_type": "code",
   "execution_count": 23,
   "metadata": {},
   "outputs": [
    {
     "data": {
      "text/plain": [
       "{'symbol': 'ETHUSDT', 'price': '2323.66000000'}"
      ]
     },
     "execution_count": 23,
     "metadata": {},
     "output_type": "execute_result"
    }
   ],
   "source": [
    "client.get_symbol_ticker(symbol=\"ETHUSDT\")"
   ]
  },
  {
   "cell_type": "code",
   "execution_count": 24,
   "metadata": {},
   "outputs": [
    {
     "data": {
      "text/plain": [
       "{'symbol': 'ETHUSDT',\n",
       " 'orderId': 10918208,\n",
       " 'orderListId': -1,\n",
       " 'clientOrderId': 'kMGELbhfyaF8gBD999zoO9',\n",
       " 'transactTime': 1707137243258,\n",
       " 'price': '2321.31000000',\n",
       " 'origQty': '0.10000000',\n",
       " 'executedQty': '0.10000000',\n",
       " 'cummulativeQuoteQty': '232.40300000',\n",
       " 'status': 'FILLED',\n",
       " 'timeInForce': 'GTC',\n",
       " 'type': 'LIMIT',\n",
       " 'side': 'SELL',\n",
       " 'workingTime': 1707137243258,\n",
       " 'fills': [{'price': '2324.03000000',\n",
       "   'qty': '0.10000000',\n",
       "   'commission': '0.00000000',\n",
       "   'commissionAsset': 'USDT',\n",
       "   'tradeId': 1382260}],\n",
       " 'selfTradePreventionMode': 'EXPIRE_MAKER'}"
      ]
     },
     "execution_count": 24,
     "metadata": {},
     "output_type": "execute_result"
    }
   ],
   "source": [
    "# get balances for all assets & some account information\n",
    "client.order_limit_sell(symbol='ETHUSDT', quantity=0.1, price=2321.31)"
   ]
  },
  {
   "cell_type": "code",
   "execution_count": 32,
   "metadata": {},
   "outputs": [
    {
     "data": {
      "text/plain": [
       "{'symbol': 'ETHUSDT',\n",
       " 'orderId': 10919701,\n",
       " 'orderListId': -1,\n",
       " 'clientOrderId': 'CPejyRDw4kxixfk3PkX1rO',\n",
       " 'transactTime': 1707137524911,\n",
       " 'price': '0.00000000',\n",
       " 'origQty': '0.10000000',\n",
       " 'executedQty': '0.10000000',\n",
       " 'cummulativeQuoteQty': '232.81200000',\n",
       " 'status': 'FILLED',\n",
       " 'timeInForce': 'GTC',\n",
       " 'type': 'MARKET',\n",
       " 'side': 'BUY',\n",
       " 'workingTime': 1707137524911,\n",
       " 'fills': [{'price': '2328.12000000',\n",
       "   'qty': '0.10000000',\n",
       "   'commission': '0.00000000',\n",
       "   'commissionAsset': 'ETH',\n",
       "   'tradeId': 1382365}],\n",
       " 'selfTradePreventionMode': 'EXPIRE_MAKER'}"
      ]
     },
     "execution_count": 32,
     "metadata": {},
     "output_type": "execute_result"
    }
   ],
   "source": [
    "client.order_market_buy(symbol='ETHUSDT', quantity=0.1)"
   ]
  },
  {
   "cell_type": "code",
   "execution_count": 34,
   "metadata": {},
   "outputs": [
    {
     "data": {
      "text/plain": [
       "{'asset': 'USDT', 'free': '9999.18100000', 'locked': '0.00000000'}"
      ]
     },
     "execution_count": 34,
     "metadata": {},
     "output_type": "execute_result"
    }
   ],
   "source": [
    "client.get_asset_balance(asset='USDT')"
   ]
  },
  {
   "cell_type": "code",
   "execution_count": null,
   "metadata": {},
   "outputs": [],
   "source": []
  }
 ],
 "metadata": {
  "kernelspec": {
   "display_name": "pythonlab",
   "language": "python",
   "name": "python3"
  },
  "language_info": {
   "codemirror_mode": {
    "name": "ipython",
    "version": 3
   },
   "file_extension": ".py",
   "mimetype": "text/x-python",
   "name": "python",
   "nbconvert_exporter": "python",
   "pygments_lexer": "ipython3",
   "version": "3.10.12"
  }
 },
 "nbformat": 4,
 "nbformat_minor": 2
}
