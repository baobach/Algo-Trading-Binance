{
 "cells": [
  {
   "cell_type": "code",
   "execution_count": 1,
   "metadata": {},
   "outputs": [
    {
     "name": "stderr",
     "output_type": "stream",
     "text": [
      "/Users/baobach/anaconda3/envs/pythonlab/lib/python3.10/site-packages/pydantic/_internal/_fields.py:149: UserWarning: Field \"model_directory\" has conflict with protected namespace \"model_\".\n",
      "\n",
      "You may be able to resolve this warning by setting `model_config['protected_namespaces'] = ('settings_',)`.\n",
      "  warnings.warn(\n"
     ]
    }
   ],
   "source": [
    "from data import BinanceAPI\n",
    "import pandas as pd"
   ]
  },
  {
   "cell_type": "code",
   "execution_count": 2,
   "metadata": {},
   "outputs": [],
   "source": [
    "binance = BinanceAPI()"
   ]
  },
  {
   "cell_type": "code",
   "execution_count": 3,
   "metadata": {},
   "outputs": [
    {
     "name": "stdout",
     "output_type": "stream",
     "text": [
      "Downloading...\n",
      "Completed!\n"
     ]
    }
   ],
   "source": [
    "binance.minute_bar(symbol='BTCUSDT',begin = '1 Jan 2018', end='1 Jan 2023')"
   ]
  },
  {
   "cell_type": "code",
   "execution_count": 12,
   "metadata": {},
   "outputs": [
    {
     "name": "stdout",
     "output_type": "stream",
     "text": [
      "<class 'pandas.core.frame.DataFrame'>\n",
      "DatetimeIndex: 2621433 entries, 2018-01-01 00:00:00 to 2023-01-01 00:00:00\n",
      "Data columns (total 5 columns):\n",
      " #   Column  Dtype \n",
      "---  ------  ----- \n",
      " 0   open    object\n",
      " 1   high    object\n",
      " 2   low     object\n",
      " 3   close   object\n",
      " 4   volume  object\n",
      "dtypes: object(5)\n",
      "memory usage: 120.0+ MB\n"
     ]
    }
   ],
   "source": [
    "df = pd.read_parquet('./data/BTCUSDT_1Min')\n",
    "df.info()"
   ]
  },
  {
   "cell_type": "code",
   "execution_count": 14,
   "metadata": {},
   "outputs": [
    {
     "name": "stdout",
     "output_type": "stream",
     "text": [
      "open      float64\n",
      "high      float64\n",
      "low       float64\n",
      "close     float64\n",
      "volume    float64\n",
      "dtype: object\n"
     ]
    }
   ],
   "source": [
    "# Specify column to convert\n",
    "columns_to_convert = ['open', 'high', 'low', 'close', 'volume']\n",
    "\n",
    "# Convert specified columns to float64\n",
    "df[columns_to_convert] = df[columns_to_convert].apply(pd.to_numeric, errors='coerce')\n",
    "\n",
    "# Verify the data types after conversion\n",
    "print(df.dtypes)\n"
   ]
  },
  {
   "cell_type": "code",
   "execution_count": 16,
   "metadata": {},
   "outputs": [
    {
     "data": {
      "text/html": [
       "<div>\n",
       "<style scoped>\n",
       "    .dataframe tbody tr th:only-of-type {\n",
       "        vertical-align: middle;\n",
       "    }\n",
       "\n",
       "    .dataframe tbody tr th {\n",
       "        vertical-align: top;\n",
       "    }\n",
       "\n",
       "    .dataframe thead th {\n",
       "        text-align: right;\n",
       "    }\n",
       "</style>\n",
       "<table border=\"1\" class=\"dataframe\">\n",
       "  <thead>\n",
       "    <tr style=\"text-align: right;\">\n",
       "      <th></th>\n",
       "      <th>open</th>\n",
       "      <th>high</th>\n",
       "      <th>low</th>\n",
       "      <th>close</th>\n",
       "      <th>volume</th>\n",
       "      <th>v</th>\n",
       "      <th>dv</th>\n",
       "    </tr>\n",
       "    <tr>\n",
       "      <th>timestamp</th>\n",
       "      <th></th>\n",
       "      <th></th>\n",
       "      <th></th>\n",
       "      <th></th>\n",
       "      <th></th>\n",
       "      <th></th>\n",
       "      <th></th>\n",
       "    </tr>\n",
       "  </thead>\n",
       "  <tbody>\n",
       "    <tr>\n",
       "      <th>2018-01-01 00:00:00</th>\n",
       "      <td>13715.65</td>\n",
       "      <td>13715.65</td>\n",
       "      <td>13681.00</td>\n",
       "      <td>13707.92</td>\n",
       "      <td>2.844266</td>\n",
       "      <td>2.844266</td>\n",
       "      <td>38988.970787</td>\n",
       "    </tr>\n",
       "    <tr>\n",
       "      <th>2018-01-01 00:01:00</th>\n",
       "      <td>13707.91</td>\n",
       "      <td>13707.91</td>\n",
       "      <td>13666.11</td>\n",
       "      <td>13694.92</td>\n",
       "      <td>2.113138</td>\n",
       "      <td>2.113138</td>\n",
       "      <td>28939.255859</td>\n",
       "    </tr>\n",
       "    <tr>\n",
       "      <th>2018-01-01 00:02:00</th>\n",
       "      <td>13682.00</td>\n",
       "      <td>13694.94</td>\n",
       "      <td>13680.00</td>\n",
       "      <td>13680.00</td>\n",
       "      <td>1.346411</td>\n",
       "      <td>1.346411</td>\n",
       "      <td>18418.902480</td>\n",
       "    </tr>\n",
       "    <tr>\n",
       "      <th>2018-01-01 00:03:00</th>\n",
       "      <td>13679.98</td>\n",
       "      <td>13679.98</td>\n",
       "      <td>13601.00</td>\n",
       "      <td>13645.99</td>\n",
       "      <td>11.589417</td>\n",
       "      <td>11.589417</td>\n",
       "      <td>158149.068488</td>\n",
       "    </tr>\n",
       "    <tr>\n",
       "      <th>2018-01-01 00:04:00</th>\n",
       "      <td>13645.98</td>\n",
       "      <td>13646.00</td>\n",
       "      <td>13576.28</td>\n",
       "      <td>13600.00</td>\n",
       "      <td>15.724566</td>\n",
       "      <td>15.724566</td>\n",
       "      <td>213854.097600</td>\n",
       "    </tr>\n",
       "  </tbody>\n",
       "</table>\n",
       "</div>"
      ],
      "text/plain": [
       "                         open      high       low     close     volume  \\\n",
       "timestamp                                                                \n",
       "2018-01-01 00:00:00  13715.65  13715.65  13681.00  13707.92   2.844266   \n",
       "2018-01-01 00:01:00  13707.91  13707.91  13666.11  13694.92   2.113138   \n",
       "2018-01-01 00:02:00  13682.00  13694.94  13680.00  13680.00   1.346411   \n",
       "2018-01-01 00:03:00  13679.98  13679.98  13601.00  13645.99  11.589417   \n",
       "2018-01-01 00:04:00  13645.98  13646.00  13576.28  13600.00  15.724566   \n",
       "\n",
       "                             v             dv  \n",
       "timestamp                                      \n",
       "2018-01-01 00:00:00   2.844266   38988.970787  \n",
       "2018-01-01 00:01:00   2.113138   28939.255859  \n",
       "2018-01-01 00:02:00   1.346411   18418.902480  \n",
       "2018-01-01 00:03:00  11.589417  158149.068488  \n",
       "2018-01-01 00:04:00  15.724566  213854.097600  "
      ]
     },
     "execution_count": 16,
     "metadata": {},
     "output_type": "execute_result"
    }
   ],
   "source": [
    "df['v'] = df['volume']\n",
    "df['dv'] = df['volume']*df['close']\n",
    "df.head()"
   ]
  },
  {
   "cell_type": "code",
   "execution_count": null,
   "metadata": {},
   "outputs": [],
   "source": []
  }
 ],
 "metadata": {
  "kernelspec": {
   "display_name": "pythonlab",
   "language": "python",
   "name": "python3"
  },
  "language_info": {
   "codemirror_mode": {
    "name": "ipython",
    "version": 3
   },
   "file_extension": ".py",
   "mimetype": "text/x-python",
   "name": "python",
   "nbconvert_exporter": "python",
   "pygments_lexer": "ipython3",
   "version": "3.10.12"
  }
 },
 "nbformat": 4,
 "nbformat_minor": 2
}
